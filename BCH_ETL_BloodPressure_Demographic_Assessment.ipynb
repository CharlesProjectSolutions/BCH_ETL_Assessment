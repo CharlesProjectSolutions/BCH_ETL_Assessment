{
 "cells": [
  {
   "cell_type": "markdown",
   "metadata": {},
   "source": [
    "### Objective\n",
    "\n",
    "Write an original ETL code that combines files and identifies cases that have a low blood pressure based on logic below. \n",
    "\n",
    "A successful project includes:\n",
    "\n",
    "1. Original code file (Python)\n",
    "\n",
    "2. Final report (excel or csv)"
   ]
  },
  {
   "cell_type": "code",
   "execution_count": 85,
   "metadata": {},
   "outputs": [],
   "source": [
    "import pandas as pd\n",
    "import numpy as np\n",
    "import matplotlib.pyplot as plt\n",
    "import seaborn as sns\n",
    "%matplotlib inline"
   ]
  },
  {
   "cell_type": "code",
   "execution_count": 86,
   "metadata": {},
   "outputs": [
    {
     "data": {
      "text/html": [
       "<div>\n",
       "<style scoped>\n",
       "    .dataframe tbody tr th:only-of-type {\n",
       "        vertical-align: middle;\n",
       "    }\n",
       "\n",
       "    .dataframe tbody tr th {\n",
       "        vertical-align: top;\n",
       "    }\n",
       "\n",
       "    .dataframe thead th {\n",
       "        text-align: right;\n",
       "    }\n",
       "</style>\n",
       "<table border=\"1\" class=\"dataframe\">\n",
       "  <thead>\n",
       "    <tr style=\"text-align: right;\">\n",
       "      <th></th>\n",
       "      <th>PERSON_ID</th>\n",
       "      <th>TIME</th>\n",
       "      <th>SYSTOLIC_BLOOD_PRESSURE</th>\n",
       "    </tr>\n",
       "  </thead>\n",
       "  <tbody>\n",
       "    <tr>\n",
       "      <th>0</th>\n",
       "      <td>123.0</td>\n",
       "      <td>1/5/2016 7:16</td>\n",
       "      <td>33</td>\n",
       "    </tr>\n",
       "    <tr>\n",
       "      <th>1</th>\n",
       "      <td>123.0</td>\n",
       "      <td>1/5/2016 7:17</td>\n",
       "      <td>75</td>\n",
       "    </tr>\n",
       "    <tr>\n",
       "      <th>2</th>\n",
       "      <td>123.0</td>\n",
       "      <td>1/5/2016 7:18</td>\n",
       "      <td>58</td>\n",
       "    </tr>\n",
       "    <tr>\n",
       "      <th>3</th>\n",
       "      <td>123.0</td>\n",
       "      <td>1/5/2016 7:19</td>\n",
       "      <td>93</td>\n",
       "    </tr>\n",
       "    <tr>\n",
       "      <th>4</th>\n",
       "      <td>123.0</td>\n",
       "      <td>1/5/2016 7:20</td>\n",
       "      <td>35</td>\n",
       "    </tr>\n",
       "  </tbody>\n",
       "</table>\n",
       "</div>"
      ],
      "text/plain": [
       "   PERSON_ID           TIME SYSTOLIC_BLOOD_PRESSURE\n",
       "0      123.0  1/5/2016 7:16                      33\n",
       "1      123.0  1/5/2016 7:17                      75\n",
       "2      123.0  1/5/2016 7:18                      58\n",
       "3      123.0  1/5/2016 7:19                      93\n",
       "4      123.0  1/5/2016 7:20                      35"
      ]
     },
     "execution_count": 86,
     "metadata": {},
     "output_type": "execute_result"
    }
   ],
   "source": [
    "# Read the dataset BloodPressure into a DataFrame\n",
    "bloodpressure = pd.read_csv('BloodPressure.csv')\n",
    "\n",
    "bloodpressure.head()"
   ]
  },
  {
   "cell_type": "code",
   "execution_count": 87,
   "metadata": {},
   "outputs": [
    {
     "data": {
      "text/plain": [
       "(1593, 3)"
      ]
     },
     "execution_count": 87,
     "metadata": {},
     "output_type": "execute_result"
    }
   ],
   "source": [
    "# examine the number of rows and columns present in our dataframe\n",
    "\n",
    "bloodpressure.shape"
   ]
  },
  {
   "cell_type": "code",
   "execution_count": 88,
   "metadata": {},
   "outputs": [
    {
     "data": {
      "text/plain": [
       "PERSON_ID                  float64\n",
       "TIME                        object\n",
       "SYSTOLIC_BLOOD_PRESSURE     object\n",
       "dtype: object"
      ]
     },
     "execution_count": 88,
     "metadata": {},
     "output_type": "execute_result"
    }
   ],
   "source": [
    "# examine the data type of each Series/columns\n",
    "bloodpressure.dtypes"
   ]
  },
  {
   "cell_type": "code",
   "execution_count": 89,
   "metadata": {},
   "outputs": [
    {
     "data": {
      "text/plain": [
       "PERSON_ID                  12\n",
       "TIME                       12\n",
       "SYSTOLIC_BLOOD_PRESSURE    13\n",
       "dtype: int64"
      ]
     },
     "execution_count": 89,
     "metadata": {},
     "output_type": "execute_result"
    }
   ],
   "source": [
    "# count the number of missing values in each Series\n",
    "bloodpressure.isnull().sum()"
   ]
  },
  {
   "cell_type": "code",
   "execution_count": 90,
   "metadata": {},
   "outputs": [
    {
     "data": {
      "text/html": [
       "<div>\n",
       "<style scoped>\n",
       "    .dataframe tbody tr th:only-of-type {\n",
       "        vertical-align: middle;\n",
       "    }\n",
       "\n",
       "    .dataframe tbody tr th {\n",
       "        vertical-align: top;\n",
       "    }\n",
       "\n",
       "    .dataframe thead th {\n",
       "        text-align: right;\n",
       "    }\n",
       "</style>\n",
       "<table border=\"1\" class=\"dataframe\">\n",
       "  <thead>\n",
       "    <tr style=\"text-align: right;\">\n",
       "      <th></th>\n",
       "      <th>PERSON_ID</th>\n",
       "      <th>TIME</th>\n",
       "      <th>SYSTOLIC_BLOOD_PRESSURE</th>\n",
       "    </tr>\n",
       "  </thead>\n",
       "  <tbody>\n",
       "    <tr>\n",
       "      <th>1514</th>\n",
       "      <td>987.0</td>\n",
       "      <td>10/17/2016 18:40</td>\n",
       "      <td>NaN</td>\n",
       "    </tr>\n",
       "    <tr>\n",
       "      <th>1581</th>\n",
       "      <td>NaN</td>\n",
       "      <td>NaN</td>\n",
       "      <td>NaN</td>\n",
       "    </tr>\n",
       "    <tr>\n",
       "      <th>1582</th>\n",
       "      <td>NaN</td>\n",
       "      <td>NaN</td>\n",
       "      <td>NaN</td>\n",
       "    </tr>\n",
       "    <tr>\n",
       "      <th>1583</th>\n",
       "      <td>NaN</td>\n",
       "      <td>NaN</td>\n",
       "      <td>NaN</td>\n",
       "    </tr>\n",
       "    <tr>\n",
       "      <th>1584</th>\n",
       "      <td>NaN</td>\n",
       "      <td>NaN</td>\n",
       "      <td>NaN</td>\n",
       "    </tr>\n",
       "    <tr>\n",
       "      <th>1585</th>\n",
       "      <td>NaN</td>\n",
       "      <td>NaN</td>\n",
       "      <td>NaN</td>\n",
       "    </tr>\n",
       "    <tr>\n",
       "      <th>1586</th>\n",
       "      <td>NaN</td>\n",
       "      <td>NaN</td>\n",
       "      <td>NaN</td>\n",
       "    </tr>\n",
       "    <tr>\n",
       "      <th>1587</th>\n",
       "      <td>NaN</td>\n",
       "      <td>NaN</td>\n",
       "      <td>NaN</td>\n",
       "    </tr>\n",
       "    <tr>\n",
       "      <th>1588</th>\n",
       "      <td>NaN</td>\n",
       "      <td>NaN</td>\n",
       "      <td>NaN</td>\n",
       "    </tr>\n",
       "    <tr>\n",
       "      <th>1589</th>\n",
       "      <td>NaN</td>\n",
       "      <td>NaN</td>\n",
       "      <td>NaN</td>\n",
       "    </tr>\n",
       "    <tr>\n",
       "      <th>1590</th>\n",
       "      <td>NaN</td>\n",
       "      <td>NaN</td>\n",
       "      <td>NaN</td>\n",
       "    </tr>\n",
       "    <tr>\n",
       "      <th>1591</th>\n",
       "      <td>NaN</td>\n",
       "      <td>NaN</td>\n",
       "      <td>NaN</td>\n",
       "    </tr>\n",
       "    <tr>\n",
       "      <th>1592</th>\n",
       "      <td>NaN</td>\n",
       "      <td>NaN</td>\n",
       "      <td>NaN</td>\n",
       "    </tr>\n",
       "  </tbody>\n",
       "</table>\n",
       "</div>"
      ],
      "text/plain": [
       "      PERSON_ID              TIME SYSTOLIC_BLOOD_PRESSURE\n",
       "1514      987.0  10/17/2016 18:40                     NaN\n",
       "1581        NaN               NaN                     NaN\n",
       "1582        NaN               NaN                     NaN\n",
       "1583        NaN               NaN                     NaN\n",
       "1584        NaN               NaN                     NaN\n",
       "1585        NaN               NaN                     NaN\n",
       "1586        NaN               NaN                     NaN\n",
       "1587        NaN               NaN                     NaN\n",
       "1588        NaN               NaN                     NaN\n",
       "1589        NaN               NaN                     NaN\n",
       "1590        NaN               NaN                     NaN\n",
       "1591        NaN               NaN                     NaN\n",
       "1592        NaN               NaN                     NaN"
      ]
     },
     "execution_count": 90,
     "metadata": {},
     "output_type": "execute_result"
    }
   ],
   "source": [
    "# use the 'isnull' Series method to filter the DataFrame rows where all the 'nan' is present\n",
    "bloodpressure[bloodpressure.SYSTOLIC_BLOOD_PRESSURE.isnull()]"
   ]
  },
  {
   "cell_type": "code",
   "execution_count": 91,
   "metadata": {},
   "outputs": [],
   "source": [
    "# We can use bloodpressure.dropna(how='any').shape to drops row, if 'any' values are missing in a row\n",
    "\n",
    "# But if 'all' values are missing in a row, then we drop these rows with the code below (none are dropped in this case)\n",
    "bloodpressure.dropna(how='all', inplace=True)"
   ]
  },
  {
   "cell_type": "code",
   "execution_count": 92,
   "metadata": {},
   "outputs": [
    {
     "data": {
      "text/plain": [
       "PERSON_ID                  0\n",
       "TIME                       0\n",
       "SYSTOLIC_BLOOD_PRESSURE    1\n",
       "dtype: int64"
      ]
     },
     "execution_count": 92,
     "metadata": {},
     "output_type": "execute_result"
    }
   ],
   "source": [
    "bloodpressure.isnull().sum()"
   ]
  },
  {
   "cell_type": "code",
   "execution_count": 93,
   "metadata": {},
   "outputs": [
    {
     "data": {
      "text/html": [
       "<div>\n",
       "<style scoped>\n",
       "    .dataframe tbody tr th:only-of-type {\n",
       "        vertical-align: middle;\n",
       "    }\n",
       "\n",
       "    .dataframe tbody tr th {\n",
       "        vertical-align: top;\n",
       "    }\n",
       "\n",
       "    .dataframe thead th {\n",
       "        text-align: right;\n",
       "    }\n",
       "</style>\n",
       "<table border=\"1\" class=\"dataframe\">\n",
       "  <thead>\n",
       "    <tr style=\"text-align: right;\">\n",
       "      <th></th>\n",
       "      <th>PERSON_ID</th>\n",
       "      <th>TIME</th>\n",
       "      <th>SYSTOLIC_BLOOD_PRESSURE</th>\n",
       "    </tr>\n",
       "  </thead>\n",
       "  <tbody>\n",
       "    <tr>\n",
       "      <th>1514</th>\n",
       "      <td>987.0</td>\n",
       "      <td>10/17/2016 18:40</td>\n",
       "      <td>NaN</td>\n",
       "    </tr>\n",
       "  </tbody>\n",
       "</table>\n",
       "</div>"
      ],
      "text/plain": [
       "      PERSON_ID              TIME SYSTOLIC_BLOOD_PRESSURE\n",
       "1514      987.0  10/17/2016 18:40                     NaN"
      ]
     },
     "execution_count": 93,
     "metadata": {},
     "output_type": "execute_result"
    }
   ],
   "source": [
    "# use the 'isnull' Series method to filter the DataFrame rows where all nan is still present\n",
    "bloodpressure[bloodpressure.SYSTOLIC_BLOOD_PRESSURE.isnull()]"
   ]
  },
  {
   "cell_type": "markdown",
   "metadata": {},
   "source": [
    "--"
   ]
  },
  {
   "cell_type": "code",
   "execution_count": 95,
   "metadata": {},
   "outputs": [],
   "source": [
    "# coverting the PERSON_ID float data type to an integer data type\n",
    "\n",
    "bloodpressure['PERSON_ID'] = bloodpressure.PERSON_ID.astype(int)"
   ]
  },
  {
   "cell_type": "code",
   "execution_count": 96,
   "metadata": {},
   "outputs": [],
   "source": [
    "#To convert the SYSTOLIC_BLOOD_PRESSURE data type, we shall either drop the string 'nan' or fill it with zero \n",
    "bloodpressure['SYSTOLIC_BLOOD_PRESSURE'] = pd.to_numeric(bloodpressure.SYSTOLIC_BLOOD_PRESSURE, errors='coerce').fillna(0)"
   ]
  },
  {
   "cell_type": "code",
   "execution_count": 97,
   "metadata": {},
   "outputs": [],
   "source": [
    "# It's now easy to convert the SYSTOLIC_BLOOD_PRESSURE' data type from float to an integer\n",
    "bloodpressure['SYSTOLIC_BLOOD_PRESSURE'] = bloodpressure.SYSTOLIC_BLOOD_PRESSURE.astype(int)\n",
    "\n",
    "# convert Time data type from object to a datetime datatype\n",
    "bloodpressure['TIME'] = pd.to_datetime(bloodpressure['TIME'])"
   ]
  },
  {
   "cell_type": "code",
   "execution_count": 98,
   "metadata": {},
   "outputs": [
    {
     "data": {
      "text/plain": [
       "PERSON_ID                           int32\n",
       "TIME                       datetime64[ns]\n",
       "SYSTOLIC_BLOOD_PRESSURE             int32\n",
       "dtype: object"
      ]
     },
     "execution_count": 98,
     "metadata": {},
     "output_type": "execute_result"
    }
   ],
   "source": [
    "bloodpressure.dtypes"
   ]
  },
  {
   "cell_type": "code",
   "execution_count": 106,
   "metadata": {},
   "outputs": [
    {
     "data": {
      "text/html": [
       "<div>\n",
       "<style scoped>\n",
       "    .dataframe tbody tr th:only-of-type {\n",
       "        vertical-align: middle;\n",
       "    }\n",
       "\n",
       "    .dataframe tbody tr th {\n",
       "        vertical-align: top;\n",
       "    }\n",
       "\n",
       "    .dataframe thead th {\n",
       "        text-align: right;\n",
       "    }\n",
       "</style>\n",
       "<table border=\"1\" class=\"dataframe\">\n",
       "  <thead>\n",
       "    <tr style=\"text-align: right;\">\n",
       "      <th></th>\n",
       "      <th>PERSON_ID</th>\n",
       "      <th>TIME</th>\n",
       "      <th>SYSTOLIC_BLOOD_PRESSURE</th>\n",
       "    </tr>\n",
       "  </thead>\n",
       "  <tbody>\n",
       "    <tr>\n",
       "      <th>0</th>\n",
       "      <td>123</td>\n",
       "      <td>2016-01-05 07:16:00</td>\n",
       "      <td>33</td>\n",
       "    </tr>\n",
       "    <tr>\n",
       "      <th>1</th>\n",
       "      <td>123</td>\n",
       "      <td>2016-01-05 07:17:00</td>\n",
       "      <td>75</td>\n",
       "    </tr>\n",
       "    <tr>\n",
       "      <th>2</th>\n",
       "      <td>123</td>\n",
       "      <td>2016-01-05 07:18:00</td>\n",
       "      <td>58</td>\n",
       "    </tr>\n",
       "    <tr>\n",
       "      <th>3</th>\n",
       "      <td>123</td>\n",
       "      <td>2016-01-05 07:19:00</td>\n",
       "      <td>93</td>\n",
       "    </tr>\n",
       "    <tr>\n",
       "      <th>4</th>\n",
       "      <td>123</td>\n",
       "      <td>2016-01-05 07:20:00</td>\n",
       "      <td>35</td>\n",
       "    </tr>\n",
       "  </tbody>\n",
       "</table>\n",
       "</div>"
      ],
      "text/plain": [
       "   PERSON_ID                TIME  SYSTOLIC_BLOOD_PRESSURE\n",
       "0        123 2016-01-05 07:16:00                       33\n",
       "1        123 2016-01-05 07:17:00                       75\n",
       "2        123 2016-01-05 07:18:00                       58\n",
       "3        123 2016-01-05 07:19:00                       93\n",
       "4        123 2016-01-05 07:20:00                       35"
      ]
     },
     "execution_count": 106,
     "metadata": {},
     "output_type": "execute_result"
    }
   ],
   "source": [
    "bloodpressure.head()"
   ]
  },
  {
   "cell_type": "code",
   "execution_count": 107,
   "metadata": {},
   "outputs": [
    {
     "data": {
      "text/html": [
       "<div>\n",
       "<style scoped>\n",
       "    .dataframe tbody tr th:only-of-type {\n",
       "        vertical-align: middle;\n",
       "    }\n",
       "\n",
       "    .dataframe tbody tr th {\n",
       "        vertical-align: top;\n",
       "    }\n",
       "\n",
       "    .dataframe thead th {\n",
       "        text-align: right;\n",
       "    }\n",
       "</style>\n",
       "<table border=\"1\" class=\"dataframe\">\n",
       "  <thead>\n",
       "    <tr style=\"text-align: right;\">\n",
       "      <th></th>\n",
       "      <th>PERSON_ID</th>\n",
       "      <th>TIME</th>\n",
       "      <th>SYSTOLIC_BLOOD_PRESSURE</th>\n",
       "    </tr>\n",
       "  </thead>\n",
       "  <tbody>\n",
       "    <tr>\n",
       "      <th>1576</th>\n",
       "      <td>111</td>\n",
       "      <td>2015-08-15 09:34:00</td>\n",
       "      <td>31</td>\n",
       "    </tr>\n",
       "    <tr>\n",
       "      <th>1577</th>\n",
       "      <td>111</td>\n",
       "      <td>2015-08-15 09:35:00</td>\n",
       "      <td>33</td>\n",
       "    </tr>\n",
       "    <tr>\n",
       "      <th>1578</th>\n",
       "      <td>111</td>\n",
       "      <td>2015-08-15 09:36:00</td>\n",
       "      <td>58</td>\n",
       "    </tr>\n",
       "    <tr>\n",
       "      <th>1579</th>\n",
       "      <td>111</td>\n",
       "      <td>2015-08-15 09:37:00</td>\n",
       "      <td>46</td>\n",
       "    </tr>\n",
       "    <tr>\n",
       "      <th>1580</th>\n",
       "      <td>111</td>\n",
       "      <td>2015-08-15 09:38:00</td>\n",
       "      <td>60</td>\n",
       "    </tr>\n",
       "  </tbody>\n",
       "</table>\n",
       "</div>"
      ],
      "text/plain": [
       "      PERSON_ID                TIME  SYSTOLIC_BLOOD_PRESSURE\n",
       "1576        111 2015-08-15 09:34:00                       31\n",
       "1577        111 2015-08-15 09:35:00                       33\n",
       "1578        111 2015-08-15 09:36:00                       58\n",
       "1579        111 2015-08-15 09:37:00                       46\n",
       "1580        111 2015-08-15 09:38:00                       60"
      ]
     },
     "execution_count": 107,
     "metadata": {},
     "output_type": "execute_result"
    }
   ],
   "source": [
    "bloodpressure.tail()"
   ]
  },
  {
   "cell_type": "code",
   "execution_count": 111,
   "metadata": {},
   "outputs": [
    {
     "data": {
      "text/plain": [
       "PERSON_ID                  22\n",
       "TIME                       22\n",
       "SYSTOLIC_BLOOD_PRESSURE    22\n",
       "dtype: int64"
      ]
     },
     "execution_count": 111,
     "metadata": {},
     "output_type": "execute_result"
    }
   ],
   "source": [
    "bloodpressure[(bloodpressure.PERSON_ID==987) & (bloodpressure.SYSTOLIC_BLOOD_PRESSURE == 0)].count()"
   ]
  },
  {
   "cell_type": "markdown",
   "metadata": {},
   "source": [
    "--"
   ]
  },
  {
   "cell_type": "markdown",
   "metadata": {},
   "source": [
    "Creating a new column called Date, Hours, Minutes, and from the Time column"
   ]
  },
  {
   "cell_type": "code",
   "execution_count": 120,
   "metadata": {},
   "outputs": [
    {
     "name": "stdout",
     "output_type": "stream",
     "text": [
      "Hour: 7\n",
      "Minute: 16\n",
      "Year: 2016\n"
     ]
    }
   ],
   "source": [
    "time = bloodpressure.loc[0, 'TIME']\n",
    "\n",
    "print('Hour:', time.hour)\n",
    "print('Minute:', time.minute)\n",
    "print('Year:', time.year)"
   ]
  },
  {
   "cell_type": "code",
   "execution_count": 121,
   "metadata": {},
   "outputs": [],
   "source": [
    "# The apply alongside Lambda function take \"Time\" column and return Date, hour, minutes, and day of week attribute\n",
    "bloodpressure['Date'] = bloodpressure['TIME'].apply(lambda t: t.date())\n",
    "\n",
    "bloodpressure['Hour'] = bloodpressure['TIME'].apply(lambda time: time.hour)\n",
    "\n",
    "bloodpressure['Minutes'] = bloodpressure['TIME'].apply(lambda time: time.minute)\n",
    "\n",
    "bloodpressure['Day of week'] = bloodpressure['TIME'].apply(lambda time: time.dayofweek)\n",
    "\n",
    "dmap = {0:'Mon', 1:'Tue', 2:'Wed', 3:'Thu', 4:'Fri', 5:'Sat', 6:'Sun'}\n",
    "\n",
    "bloodpressure['Day of week'] = bloodpressure['Day of week'].map(dmap)"
   ]
  },
  {
   "cell_type": "code",
   "execution_count": 122,
   "metadata": {},
   "outputs": [
    {
     "data": {
      "text/html": [
       "<div>\n",
       "<style scoped>\n",
       "    .dataframe tbody tr th:only-of-type {\n",
       "        vertical-align: middle;\n",
       "    }\n",
       "\n",
       "    .dataframe tbody tr th {\n",
       "        vertical-align: top;\n",
       "    }\n",
       "\n",
       "    .dataframe thead th {\n",
       "        text-align: right;\n",
       "    }\n",
       "</style>\n",
       "<table border=\"1\" class=\"dataframe\">\n",
       "  <thead>\n",
       "    <tr style=\"text-align: right;\">\n",
       "      <th></th>\n",
       "      <th>PERSON_ID</th>\n",
       "      <th>TIME</th>\n",
       "      <th>SYSTOLIC_BLOOD_PRESSURE</th>\n",
       "      <th>Date</th>\n",
       "      <th>Hour</th>\n",
       "      <th>Minutes</th>\n",
       "      <th>Day of week</th>\n",
       "    </tr>\n",
       "  </thead>\n",
       "  <tbody>\n",
       "    <tr>\n",
       "      <th>0</th>\n",
       "      <td>123</td>\n",
       "      <td>2016-01-05 07:16:00</td>\n",
       "      <td>33</td>\n",
       "      <td>2016-01-05</td>\n",
       "      <td>7</td>\n",
       "      <td>16</td>\n",
       "      <td>Tue</td>\n",
       "    </tr>\n",
       "    <tr>\n",
       "      <th>1</th>\n",
       "      <td>123</td>\n",
       "      <td>2016-01-05 07:17:00</td>\n",
       "      <td>75</td>\n",
       "      <td>2016-01-05</td>\n",
       "      <td>7</td>\n",
       "      <td>17</td>\n",
       "      <td>Tue</td>\n",
       "    </tr>\n",
       "    <tr>\n",
       "      <th>2</th>\n",
       "      <td>123</td>\n",
       "      <td>2016-01-05 07:18:00</td>\n",
       "      <td>58</td>\n",
       "      <td>2016-01-05</td>\n",
       "      <td>7</td>\n",
       "      <td>18</td>\n",
       "      <td>Tue</td>\n",
       "    </tr>\n",
       "    <tr>\n",
       "      <th>3</th>\n",
       "      <td>123</td>\n",
       "      <td>2016-01-05 07:19:00</td>\n",
       "      <td>93</td>\n",
       "      <td>2016-01-05</td>\n",
       "      <td>7</td>\n",
       "      <td>19</td>\n",
       "      <td>Tue</td>\n",
       "    </tr>\n",
       "    <tr>\n",
       "      <th>4</th>\n",
       "      <td>123</td>\n",
       "      <td>2016-01-05 07:20:00</td>\n",
       "      <td>35</td>\n",
       "      <td>2016-01-05</td>\n",
       "      <td>7</td>\n",
       "      <td>20</td>\n",
       "      <td>Tue</td>\n",
       "    </tr>\n",
       "  </tbody>\n",
       "</table>\n",
       "</div>"
      ],
      "text/plain": [
       "   PERSON_ID                TIME  SYSTOLIC_BLOOD_PRESSURE        Date  Hour  \\\n",
       "0        123 2016-01-05 07:16:00                       33  2016-01-05     7   \n",
       "1        123 2016-01-05 07:17:00                       75  2016-01-05     7   \n",
       "2        123 2016-01-05 07:18:00                       58  2016-01-05     7   \n",
       "3        123 2016-01-05 07:19:00                       93  2016-01-05     7   \n",
       "4        123 2016-01-05 07:20:00                       35  2016-01-05     7   \n",
       "\n",
       "   Minutes Day of week  \n",
       "0       16         Tue  \n",
       "1       17         Tue  \n",
       "2       18         Tue  \n",
       "3       19         Tue  \n",
       "4       20         Tue  "
      ]
     },
     "execution_count": 122,
     "metadata": {},
     "output_type": "execute_result"
    }
   ],
   "source": [
    "bloodpressure.head()"
   ]
  },
  {
   "cell_type": "code",
   "execution_count": 124,
   "metadata": {},
   "outputs": [
    {
     "data": {
      "text/html": [
       "<div>\n",
       "<style scoped>\n",
       "    .dataframe tbody tr th:only-of-type {\n",
       "        vertical-align: middle;\n",
       "    }\n",
       "\n",
       "    .dataframe tbody tr th {\n",
       "        vertical-align: top;\n",
       "    }\n",
       "\n",
       "    .dataframe thead th {\n",
       "        text-align: right;\n",
       "    }\n",
       "</style>\n",
       "<table border=\"1\" class=\"dataframe\">\n",
       "  <thead>\n",
       "    <tr style=\"text-align: right;\">\n",
       "      <th></th>\n",
       "      <th>PERSON_ID</th>\n",
       "      <th>SYSTOLIC_BLOOD_PRESSURE</th>\n",
       "      <th>Date</th>\n",
       "      <th>Minutes</th>\n",
       "      <th>Day of week</th>\n",
       "    </tr>\n",
       "  </thead>\n",
       "  <tbody>\n",
       "    <tr>\n",
       "      <th>0</th>\n",
       "      <td>123</td>\n",
       "      <td>33</td>\n",
       "      <td>2016-01-05</td>\n",
       "      <td>16</td>\n",
       "      <td>Tue</td>\n",
       "    </tr>\n",
       "    <tr>\n",
       "      <th>1</th>\n",
       "      <td>123</td>\n",
       "      <td>75</td>\n",
       "      <td>2016-01-05</td>\n",
       "      <td>17</td>\n",
       "      <td>Tue</td>\n",
       "    </tr>\n",
       "    <tr>\n",
       "      <th>2</th>\n",
       "      <td>123</td>\n",
       "      <td>58</td>\n",
       "      <td>2016-01-05</td>\n",
       "      <td>18</td>\n",
       "      <td>Tue</td>\n",
       "    </tr>\n",
       "    <tr>\n",
       "      <th>3</th>\n",
       "      <td>123</td>\n",
       "      <td>93</td>\n",
       "      <td>2016-01-05</td>\n",
       "      <td>19</td>\n",
       "      <td>Tue</td>\n",
       "    </tr>\n",
       "    <tr>\n",
       "      <th>4</th>\n",
       "      <td>123</td>\n",
       "      <td>35</td>\n",
       "      <td>2016-01-05</td>\n",
       "      <td>20</td>\n",
       "      <td>Tue</td>\n",
       "    </tr>\n",
       "  </tbody>\n",
       "</table>\n",
       "</div>"
      ],
      "text/plain": [
       "   PERSON_ID  SYSTOLIC_BLOOD_PRESSURE        Date  Minutes Day of week\n",
       "0        123                       33  2016-01-05       16         Tue\n",
       "1        123                       75  2016-01-05       17         Tue\n",
       "2        123                       58  2016-01-05       18         Tue\n",
       "3        123                       93  2016-01-05       19         Tue\n",
       "4        123                       35  2016-01-05       20         Tue"
      ]
     },
     "execution_count": 124,
     "metadata": {},
     "output_type": "execute_result"
    }
   ],
   "source": [
    "new_bloodpressure = bloodpressure.loc[:, ['PERSON_ID', 'SYSTOLIC_BLOOD_PRESSURE', 'Date', 'Minutes', 'Day of week']]\n",
    "\n",
    "new_bloodpressure.head()"
   ]
  },
  {
   "cell_type": "code",
   "execution_count": 127,
   "metadata": {},
   "outputs": [
    {
     "data": {
      "text/html": [
       "<div>\n",
       "<style scoped>\n",
       "    .dataframe tbody tr th:only-of-type {\n",
       "        vertical-align: middle;\n",
       "    }\n",
       "\n",
       "    .dataframe tbody tr th {\n",
       "        vertical-align: top;\n",
       "    }\n",
       "\n",
       "    .dataframe thead th {\n",
       "        text-align: right;\n",
       "    }\n",
       "</style>\n",
       "<table border=\"1\" class=\"dataframe\">\n",
       "  <thead>\n",
       "    <tr style=\"text-align: right;\">\n",
       "      <th></th>\n",
       "      <th>PERSON_ID</th>\n",
       "      <th>SERVICE_DATE</th>\n",
       "      <th>AGE_MONTHS</th>\n",
       "    </tr>\n",
       "  </thead>\n",
       "  <tbody>\n",
       "    <tr>\n",
       "      <th>0</th>\n",
       "      <td>123</td>\n",
       "      <td>2016-01-05</td>\n",
       "      <td>46</td>\n",
       "    </tr>\n",
       "    <tr>\n",
       "      <th>1</th>\n",
       "      <td>123</td>\n",
       "      <td>2016-02-13</td>\n",
       "      <td>47</td>\n",
       "    </tr>\n",
       "    <tr>\n",
       "      <th>2</th>\n",
       "      <td>456</td>\n",
       "      <td>2015-06-08</td>\n",
       "      <td>40</td>\n",
       "    </tr>\n",
       "    <tr>\n",
       "      <th>3</th>\n",
       "      <td>456</td>\n",
       "      <td>2015-08-15</td>\n",
       "      <td>42</td>\n",
       "    </tr>\n",
       "    <tr>\n",
       "      <th>4</th>\n",
       "      <td>456</td>\n",
       "      <td>2015-05-21</td>\n",
       "      <td>39</td>\n",
       "    </tr>\n",
       "  </tbody>\n",
       "</table>\n",
       "</div>"
      ],
      "text/plain": [
       "   PERSON_ID SERVICE_DATE  AGE_MONTHS\n",
       "0        123   2016-01-05          46\n",
       "1        123   2016-02-13          47\n",
       "2        456   2015-06-08          40\n",
       "3        456   2015-08-15          42\n",
       "4        456   2015-05-21          39"
      ]
     },
     "execution_count": 127,
     "metadata": {},
     "output_type": "execute_result"
    }
   ],
   "source": [
    "demographics = pd.read_csv('Demographics.csv', parse_dates=[1])\n",
    "\n",
    "demographics.head()"
   ]
  },
  {
   "cell_type": "code",
   "execution_count": 128,
   "metadata": {},
   "outputs": [
    {
     "data": {
      "text/plain": [
       "PERSON_ID                int64\n",
       "SERVICE_DATE    datetime64[ns]\n",
       "AGE_MONTHS               int64\n",
       "dtype: object"
      ]
     },
     "execution_count": 128,
     "metadata": {},
     "output_type": "execute_result"
    }
   ],
   "source": [
    "demographics.dtypes"
   ]
  },
  {
   "cell_type": "code",
   "execution_count": 129,
   "metadata": {},
   "outputs": [
    {
     "data": {
      "text/html": [
       "<div>\n",
       "<style scoped>\n",
       "    .dataframe tbody tr th:only-of-type {\n",
       "        vertical-align: middle;\n",
       "    }\n",
       "\n",
       "    .dataframe tbody tr th {\n",
       "        vertical-align: top;\n",
       "    }\n",
       "\n",
       "    .dataframe thead th {\n",
       "        text-align: right;\n",
       "    }\n",
       "</style>\n",
       "<table border=\"1\" class=\"dataframe\">\n",
       "  <thead>\n",
       "    <tr style=\"text-align: right;\">\n",
       "      <th></th>\n",
       "      <th>PERSON_ID</th>\n",
       "      <th>SYSTOLIC_BLOOD_PRESSURE</th>\n",
       "      <th>Date</th>\n",
       "      <th>Minutes</th>\n",
       "      <th>Day of week</th>\n",
       "      <th>SERVICE_DATE</th>\n",
       "      <th>AGE_MONTHS</th>\n",
       "    </tr>\n",
       "  </thead>\n",
       "  <tbody>\n",
       "    <tr>\n",
       "      <th>0</th>\n",
       "      <td>123</td>\n",
       "      <td>33</td>\n",
       "      <td>2016-01-05</td>\n",
       "      <td>16</td>\n",
       "      <td>Tue</td>\n",
       "      <td>2016-01-05</td>\n",
       "      <td>46</td>\n",
       "    </tr>\n",
       "    <tr>\n",
       "      <th>1</th>\n",
       "      <td>123</td>\n",
       "      <td>33</td>\n",
       "      <td>2016-01-05</td>\n",
       "      <td>16</td>\n",
       "      <td>Tue</td>\n",
       "      <td>2016-02-13</td>\n",
       "      <td>47</td>\n",
       "    </tr>\n",
       "    <tr>\n",
       "      <th>2</th>\n",
       "      <td>123</td>\n",
       "      <td>75</td>\n",
       "      <td>2016-01-05</td>\n",
       "      <td>17</td>\n",
       "      <td>Tue</td>\n",
       "      <td>2016-01-05</td>\n",
       "      <td>46</td>\n",
       "    </tr>\n",
       "    <tr>\n",
       "      <th>3</th>\n",
       "      <td>123</td>\n",
       "      <td>75</td>\n",
       "      <td>2016-01-05</td>\n",
       "      <td>17</td>\n",
       "      <td>Tue</td>\n",
       "      <td>2016-02-13</td>\n",
       "      <td>47</td>\n",
       "    </tr>\n",
       "    <tr>\n",
       "      <th>4</th>\n",
       "      <td>123</td>\n",
       "      <td>58</td>\n",
       "      <td>2016-01-05</td>\n",
       "      <td>18</td>\n",
       "      <td>Tue</td>\n",
       "      <td>2016-01-05</td>\n",
       "      <td>46</td>\n",
       "    </tr>\n",
       "  </tbody>\n",
       "</table>\n",
       "</div>"
      ],
      "text/plain": [
       "   PERSON_ID  SYSTOLIC_BLOOD_PRESSURE        Date  Minutes Day of week  \\\n",
       "0        123                       33  2016-01-05       16         Tue   \n",
       "1        123                       33  2016-01-05       16         Tue   \n",
       "2        123                       75  2016-01-05       17         Tue   \n",
       "3        123                       75  2016-01-05       17         Tue   \n",
       "4        123                       58  2016-01-05       18         Tue   \n",
       "\n",
       "  SERVICE_DATE  AGE_MONTHS  \n",
       "0   2016-01-05          46  \n",
       "1   2016-02-13          47  \n",
       "2   2016-01-05          46  \n",
       "3   2016-02-13          47  \n",
       "4   2016-01-05          46  "
      ]
     },
     "execution_count": 129,
     "metadata": {},
     "output_type": "execute_result"
    }
   ],
   "source": [
    "# Join both dataframes using a left join\n",
    "\n",
    "bloodpressure_demographics = pd.merge(new_bloodpressure, demographics, how='left')\n",
    "\n",
    "bloodpressure_demographics.head()"
   ]
  },
  {
   "cell_type": "code",
   "execution_count": 130,
   "metadata": {},
   "outputs": [
    {
     "data": {
      "text/plain": [
       "PERSON_ID                           int32\n",
       "SYSTOLIC_BLOOD_PRESSURE             int32\n",
       "Date                               object\n",
       "Minutes                             int64\n",
       "Day of week                        object\n",
       "SERVICE_DATE               datetime64[ns]\n",
       "AGE_MONTHS                          int64\n",
       "dtype: object"
      ]
     },
     "execution_count": 130,
     "metadata": {},
     "output_type": "execute_result"
    }
   ],
   "source": [
    "bloodpressure_demographics.dtypes"
   ]
  },
  {
   "cell_type": "code",
   "execution_count": 131,
   "metadata": {},
   "outputs": [
    {
     "data": {
      "text/plain": [
       "PERSON_ID                  0\n",
       "SYSTOLIC_BLOOD_PRESSURE    0\n",
       "Date                       0\n",
       "Minutes                    0\n",
       "Day of week                0\n",
       "SERVICE_DATE               0\n",
       "AGE_MONTHS                 0\n",
       "dtype: int64"
      ]
     },
     "execution_count": 131,
     "metadata": {},
     "output_type": "execute_result"
    }
   ],
   "source": [
    "bloodpressure_demographics.isnull().sum()"
   ]
  },
  {
   "cell_type": "markdown",
   "metadata": {},
   "source": [
    "Question 1: \n",
    "\n",
    "Steps\n",
    "\n",
    "Identify cases during which blood pressure dropped below the norm for the age (see below) for 14 continuous minutes or longer.\n",
    "Assume, that the PERSON_ID is the identifier for the patient, and SERVICE_DATE is the date of the surgery that they had. Surgeries don’t span over 1 day. The Age is given for that patient, for the surgery date.  The Blood pressure is only taken during the surgery duration. \n",
    "\n",
    "If the child reached 44 months, systolic blood pressure is considered low at 55 mmHg and below. Before 44 months of age, 46 mmHg and below is considered low.\n"
   ]
  },
  {
   "cell_type": "code",
   "execution_count": 134,
   "metadata": {},
   "outputs": [
    {
     "data": {
      "text/html": [
       "<div>\n",
       "<style scoped>\n",
       "    .dataframe tbody tr th:only-of-type {\n",
       "        vertical-align: middle;\n",
       "    }\n",
       "\n",
       "    .dataframe tbody tr th {\n",
       "        vertical-align: top;\n",
       "    }\n",
       "\n",
       "    .dataframe thead th {\n",
       "        text-align: right;\n",
       "    }\n",
       "</style>\n",
       "<table border=\"1\" class=\"dataframe\">\n",
       "  <thead>\n",
       "    <tr style=\"text-align: right;\">\n",
       "      <th></th>\n",
       "      <th>PERSON_ID</th>\n",
       "      <th>Minutes</th>\n",
       "    </tr>\n",
       "  </thead>\n",
       "  <tbody>\n",
       "    <tr>\n",
       "      <th>0</th>\n",
       "      <td>111</td>\n",
       "      <td>23</td>\n",
       "    </tr>\n",
       "    <tr>\n",
       "      <th>1</th>\n",
       "      <td>123</td>\n",
       "      <td>102</td>\n",
       "    </tr>\n",
       "    <tr>\n",
       "      <th>2</th>\n",
       "      <td>234</td>\n",
       "      <td>144</td>\n",
       "    </tr>\n",
       "    <tr>\n",
       "      <th>3</th>\n",
       "      <td>345</td>\n",
       "      <td>82</td>\n",
       "    </tr>\n",
       "    <tr>\n",
       "      <th>4</th>\n",
       "      <td>456</td>\n",
       "      <td>436</td>\n",
       "    </tr>\n",
       "    <tr>\n",
       "      <th>5</th>\n",
       "      <td>567</td>\n",
       "      <td>48</td>\n",
       "    </tr>\n",
       "    <tr>\n",
       "      <th>6</th>\n",
       "      <td>789</td>\n",
       "      <td>22</td>\n",
       "    </tr>\n",
       "    <tr>\n",
       "      <th>7</th>\n",
       "      <td>987</td>\n",
       "      <td>72</td>\n",
       "    </tr>\n",
       "  </tbody>\n",
       "</table>\n",
       "</div>"
      ],
      "text/plain": [
       "   PERSON_ID  Minutes\n",
       "0        111       23\n",
       "1        123      102\n",
       "2        234      144\n",
       "3        345       82\n",
       "4        456      436\n",
       "5        567       48\n",
       "6        789       22\n",
       "7        987       72"
      ]
     },
     "execution_count": 134,
     "metadata": {},
     "output_type": "execute_result"
    }
   ],
   "source": [
    "bloodpressure_demographics[(bloodpressure_demographics.Minutes>=14) & \n",
    "                           (bloodpressure_demographics.SYSTOLIC_BLOOD_PRESSURE <=46)]\\\n",
    ".groupby(['PERSON_ID'], as_index = False).agg({'Minutes':'count'})"
   ]
  },
  {
   "cell_type": "code",
   "execution_count": null,
   "metadata": {},
   "outputs": [],
   "source": []
  }
 ],
 "metadata": {
  "kernelspec": {
   "display_name": "Python 3",
   "language": "python",
   "name": "python3"
  },
  "language_info": {
   "codemirror_mode": {
    "name": "ipython",
    "version": 3
   },
   "file_extension": ".py",
   "mimetype": "text/x-python",
   "name": "python",
   "nbconvert_exporter": "python",
   "pygments_lexer": "ipython3",
   "version": "3.7.3"
  }
 },
 "nbformat": 4,
 "nbformat_minor": 2
}
