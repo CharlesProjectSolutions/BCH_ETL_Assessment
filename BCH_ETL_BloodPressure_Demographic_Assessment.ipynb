{
 "cells": [
  {
   "cell_type": "markdown",
   "metadata": {},
   "source": [
    "### Objective\n",
    "\n",
    "Write an original ETL code that combines files and identifies cases that have a low blood pressure based on logic below. \n",
    "\n",
    "A successful project includes:\n",
    "\n",
    "1. Original code file (Python)\n",
    "\n",
    "2. Final report (excel or csv)"
   ]
  },
  {
   "cell_type": "markdown",
   "metadata": {},
   "source": [
    "#### Import numpy and pandas for data manipulation"
   ]
  },
  {
   "cell_type": "code",
   "execution_count": 1,
   "metadata": {},
   "outputs": [],
   "source": [
    "import pandas as pd\n",
    "import numpy as np"
   ]
  },
  {
   "cell_type": "markdown",
   "metadata": {},
   "source": [
    "#### Import visualization libraries and set %matplotlib inline"
   ]
  },
  {
   "cell_type": "code",
   "execution_count": 2,
   "metadata": {},
   "outputs": [],
   "source": [
    "import matplotlib.pyplot as plt\n",
    "import seaborn as sns \n",
    "%matplotlib inline"
   ]
  },
  {
   "cell_type": "code",
   "execution_count": 3,
   "metadata": {},
   "outputs": [
    {
     "data": {
      "text/html": [
       "<div>\n",
       "<style scoped>\n",
       "    .dataframe tbody tr th:only-of-type {\n",
       "        vertical-align: middle;\n",
       "    }\n",
       "\n",
       "    .dataframe tbody tr th {\n",
       "        vertical-align: top;\n",
       "    }\n",
       "\n",
       "    .dataframe thead th {\n",
       "        text-align: right;\n",
       "    }\n",
       "</style>\n",
       "<table border=\"1\" class=\"dataframe\">\n",
       "  <thead>\n",
       "    <tr style=\"text-align: right;\">\n",
       "      <th></th>\n",
       "      <th>PERSON_ID</th>\n",
       "      <th>TIME</th>\n",
       "      <th>SYSTOLIC_BLOOD_PRESSURE</th>\n",
       "    </tr>\n",
       "  </thead>\n",
       "  <tbody>\n",
       "    <tr>\n",
       "      <th>0</th>\n",
       "      <td>123</td>\n",
       "      <td>2016-01-05 07:16:00</td>\n",
       "      <td>33.0</td>\n",
       "    </tr>\n",
       "    <tr>\n",
       "      <th>1</th>\n",
       "      <td>123</td>\n",
       "      <td>2016-01-05 07:17:00</td>\n",
       "      <td>75.0</td>\n",
       "    </tr>\n",
       "    <tr>\n",
       "      <th>2</th>\n",
       "      <td>123</td>\n",
       "      <td>2016-01-05 07:18:00</td>\n",
       "      <td>58.0</td>\n",
       "    </tr>\n",
       "    <tr>\n",
       "      <th>3</th>\n",
       "      <td>123</td>\n",
       "      <td>2016-01-05 07:19:00</td>\n",
       "      <td>93.0</td>\n",
       "    </tr>\n",
       "    <tr>\n",
       "      <th>4</th>\n",
       "      <td>123</td>\n",
       "      <td>2016-01-05 07:20:00</td>\n",
       "      <td>35.0</td>\n",
       "    </tr>\n",
       "  </tbody>\n",
       "</table>\n",
       "</div>"
      ],
      "text/plain": [
       "   PERSON_ID                TIME  SYSTOLIC_BLOOD_PRESSURE\n",
       "0        123 2016-01-05 07:16:00                     33.0\n",
       "1        123 2016-01-05 07:17:00                     75.0\n",
       "2        123 2016-01-05 07:18:00                     58.0\n",
       "3        123 2016-01-05 07:19:00                     93.0\n",
       "4        123 2016-01-05 07:20:00                     35.0"
      ]
     },
     "execution_count": 3,
     "metadata": {},
     "output_type": "execute_result"
    }
   ],
   "source": [
    "# Read in the csv files as a dataframe called bloodpressure\n",
    "\n",
    "bloodpressure = pd.read_csv('BloodPressures.csv', parse_dates=[1])\n",
    "\n",
    "bloodpressure.head()"
   ]
  },
  {
   "cell_type": "markdown",
   "metadata": {},
   "source": [
    "#### Investigating the bloodpressure dataframe"
   ]
  },
  {
   "cell_type": "code",
   "execution_count": 4,
   "metadata": {},
   "outputs": [
    {
     "name": "stdout",
     "output_type": "stream",
     "text": [
      "Column Names: Index(['PERSON_ID', 'TIME', 'SYSTOLIC_BLOOD_PRESSURE'], dtype='object')\n"
     ]
    }
   ],
   "source": [
    "# Column names of the dataframe\n",
    "\n",
    "print( 'Column Names:',bloodpressure.columns)"
   ]
  },
  {
   "cell_type": "code",
   "execution_count": 5,
   "metadata": {},
   "outputs": [
    {
     "name": "stdout",
     "output_type": "stream",
     "text": [
      "Dimension: (1577, 3)\n"
     ]
    }
   ],
   "source": [
    "# Dimension of the dataframe\n",
    "print( 'Dimension:',bloodpressure.shape)"
   ]
  },
  {
   "cell_type": "code",
   "execution_count": 6,
   "metadata": {},
   "outputs": [
    {
     "name": "stdout",
     "output_type": "stream",
     "text": [
      "Data Type: PERSON_ID                           int64\n",
      "TIME                       datetime64[ns]\n",
      "SYSTOLIC_BLOOD_PRESSURE           float64\n",
      "dtype: object\n"
     ]
    }
   ],
   "source": [
    "## Check in the data type of each column\n",
    "print('Data Type:',bloodpressure.dtypes)"
   ]
  },
  {
   "cell_type": "code",
   "execution_count": 7,
   "metadata": {},
   "outputs": [
    {
     "data": {
      "text/plain": [
       "PERSON_ID                  0\n",
       "TIME                       0\n",
       "SYSTOLIC_BLOOD_PRESSURE    1\n",
       "dtype: int64"
      ]
     },
     "execution_count": 7,
     "metadata": {},
     "output_type": "execute_result"
    }
   ],
   "source": [
    "# checking for sum of null values across each column in our dataframe\n",
    "\n",
    "bloodpressure.isnull().sum()"
   ]
  },
  {
   "cell_type": "markdown",
   "metadata": {},
   "source": [
    "Since the blood pressure thresholds are not clinically correct, and are created for this problem only, on this note I assumed that it will be approperiate to drop rows with Errors and null values Systolic BP."
   ]
  },
  {
   "cell_type": "code",
   "execution_count": 8,
   "metadata": {},
   "outputs": [
    {
     "data": {
      "text/html": [
       "<div>\n",
       "<style scoped>\n",
       "    .dataframe tbody tr th:only-of-type {\n",
       "        vertical-align: middle;\n",
       "    }\n",
       "\n",
       "    .dataframe tbody tr th {\n",
       "        vertical-align: top;\n",
       "    }\n",
       "\n",
       "    .dataframe thead th {\n",
       "        text-align: right;\n",
       "    }\n",
       "</style>\n",
       "<table border=\"1\" class=\"dataframe\">\n",
       "  <thead>\n",
       "    <tr style=\"text-align: right;\">\n",
       "      <th></th>\n",
       "      <th>PERSON_ID</th>\n",
       "      <th>TIME</th>\n",
       "      <th>SYSTOLIC_BLOOD_PRESSURE</th>\n",
       "    </tr>\n",
       "  </thead>\n",
       "  <tbody>\n",
       "    <tr>\n",
       "      <th>1512</th>\n",
       "      <td>987</td>\n",
       "      <td>2016-10-17 18:40:00</td>\n",
       "      <td>NaN</td>\n",
       "    </tr>\n",
       "  </tbody>\n",
       "</table>\n",
       "</div>"
      ],
      "text/plain": [
       "      PERSON_ID                TIME  SYSTOLIC_BLOOD_PRESSURE\n",
       "1512        987 2016-10-17 18:40:00                      NaN"
      ]
     },
     "execution_count": 8,
     "metadata": {},
     "output_type": "execute_result"
    }
   ],
   "source": [
    "# The portion where I have error values in my dataframe\n",
    "\n",
    "bloodpressure[bloodpressure.SYSTOLIC_BLOOD_PRESSURE.isnull()]"
   ]
  },
  {
   "cell_type": "code",
   "execution_count": 9,
   "metadata": {},
   "outputs": [],
   "source": [
    "# Droping PERSON_ID 1512 row with NaN value\n",
    "\n",
    "bloodpressure.dropna(how='any', inplace=True)"
   ]
  },
  {
   "cell_type": "code",
   "execution_count": 10,
   "metadata": {},
   "outputs": [
    {
     "data": {
      "text/plain": [
       "PERSON_ID                  0\n",
       "TIME                       0\n",
       "SYSTOLIC_BLOOD_PRESSURE    0\n",
       "dtype: int64"
      ]
     },
     "execution_count": 10,
     "metadata": {},
     "output_type": "execute_result"
    }
   ],
   "source": [
    "# Checking for null values\n",
    "\n",
    "bloodpressure.isnull().sum()"
   ]
  },
  {
   "cell_type": "code",
   "execution_count": 11,
   "metadata": {},
   "outputs": [],
   "source": [
    "# Converting SYSTOLIC_BLOOD_PRESSURE column from float data type to integer \n",
    "\n",
    "bloodpressure['SYSTOLIC_BLOOD_PRESSURE'] = bloodpressure.SYSTOLIC_BLOOD_PRESSURE.astype(int)"
   ]
  },
  {
   "cell_type": "markdown",
   "metadata": {},
   "source": [
    "---"
   ]
  },
  {
   "cell_type": "code",
   "execution_count": 12,
   "metadata": {},
   "outputs": [
    {
     "data": {
      "text/plain": [
       "Timestamp('2016-01-05 07:16:00')"
      ]
     },
     "execution_count": 12,
     "metadata": {},
     "output_type": "execute_result"
    }
   ],
   "source": [
    "bloodpressure['[TIME]'].iloc[0]"
   ]
  },
  {
   "cell_type": "code",
   "execution_count": 13,
   "metadata": {},
   "outputs": [
    {
     "data": {
      "text/plain": [
       "7"
      ]
     },
     "execution_count": 13,
     "metadata": {},
     "output_type": "execute_result"
    }
   ],
   "source": [
    "time = bloodpressure['TIME'].iloc[0]\n",
    "parse_dates=[1]\n",
    "time.hour"
   ]
  },
  {
   "cell_type": "code",
   "execution_count": 131,
   "metadata": {},
   "outputs": [
    {
     "data": {
      "text/plain": [
       "16"
      ]
     },
     "execution_count": 131,
     "metadata": {},
     "output_type": "execute_result"
    }
   ],
   "source": [
    "time.minute"
   ]
  },
  {
   "cell_type": "code",
   "execution_count": 132,
   "metadata": {},
   "outputs": [
    {
     "data": {
      "text/plain": [
       "2016"
      ]
     },
     "execution_count": 132,
     "metadata": {},
     "output_type": "execute_result"
    }
   ],
   "source": [
    "time.year"
   ]
  },
  {
   "cell_type": "code",
   "execution_count": 135,
   "metadata": {},
   "outputs": [],
   "source": [
    "# Lambda take \"Time\" column and return Date, hour, minutes, and day of week attribute\n",
    "bloodpressure['Date'] = bloodpressure['TIME'].apply(lambda t: t.date())\n",
    "\n",
    "bloodpressure['Hour'] = bloodpressure['TIME'].apply(lambda time: time.hour)\n",
    "\n",
    "bloodpressure['Minutes'] = bloodpressure['TIME'].apply(lambda time: time.minute)\n",
    "\n",
    "bloodpressure['Day of week'] = bloodpressure['TIME'].apply(lambda time: time.dayofweek)\n",
    "\n",
    "dmap = {0:'Mon', 1:'Tue', 2:'Wed', 3:'Thu', 4:'Fri', 5:'Sat', 6:'Sun'}\n",
    "\n",
    "bloodpressure['Day of week'] = bloodpressure['Day of week'].map(dmap)"
   ]
  },
  {
   "cell_type": "code",
   "execution_count": 136,
   "metadata": {},
   "outputs": [
    {
     "data": {
      "text/html": [
       "<div>\n",
       "<style scoped>\n",
       "    .dataframe tbody tr th:only-of-type {\n",
       "        vertical-align: middle;\n",
       "    }\n",
       "\n",
       "    .dataframe tbody tr th {\n",
       "        vertical-align: top;\n",
       "    }\n",
       "\n",
       "    .dataframe thead th {\n",
       "        text-align: right;\n",
       "    }\n",
       "</style>\n",
       "<table border=\"1\" class=\"dataframe\">\n",
       "  <thead>\n",
       "    <tr style=\"text-align: right;\">\n",
       "      <th></th>\n",
       "      <th>PERSON_ID</th>\n",
       "      <th>TIME</th>\n",
       "      <th>SYSTOLIC_BLOOD_PRESSURE</th>\n",
       "      <th>Hour</th>\n",
       "      <th>Minutes</th>\n",
       "      <th>Day of week</th>\n",
       "      <th>Date</th>\n",
       "    </tr>\n",
       "  </thead>\n",
       "  <tbody>\n",
       "    <tr>\n",
       "      <th>0</th>\n",
       "      <td>123</td>\n",
       "      <td>2016-01-05 07:16:00</td>\n",
       "      <td>33</td>\n",
       "      <td>7</td>\n",
       "      <td>16</td>\n",
       "      <td>Tue</td>\n",
       "      <td>2016-01-05</td>\n",
       "    </tr>\n",
       "    <tr>\n",
       "      <th>1</th>\n",
       "      <td>123</td>\n",
       "      <td>2016-01-05 07:17:00</td>\n",
       "      <td>75</td>\n",
       "      <td>7</td>\n",
       "      <td>17</td>\n",
       "      <td>Tue</td>\n",
       "      <td>2016-01-05</td>\n",
       "    </tr>\n",
       "    <tr>\n",
       "      <th>2</th>\n",
       "      <td>123</td>\n",
       "      <td>2016-01-05 07:18:00</td>\n",
       "      <td>58</td>\n",
       "      <td>7</td>\n",
       "      <td>18</td>\n",
       "      <td>Tue</td>\n",
       "      <td>2016-01-05</td>\n",
       "    </tr>\n",
       "    <tr>\n",
       "      <th>3</th>\n",
       "      <td>123</td>\n",
       "      <td>2016-01-05 07:19:00</td>\n",
       "      <td>93</td>\n",
       "      <td>7</td>\n",
       "      <td>19</td>\n",
       "      <td>Tue</td>\n",
       "      <td>2016-01-05</td>\n",
       "    </tr>\n",
       "    <tr>\n",
       "      <th>4</th>\n",
       "      <td>123</td>\n",
       "      <td>2016-01-05 07:20:00</td>\n",
       "      <td>35</td>\n",
       "      <td>7</td>\n",
       "      <td>20</td>\n",
       "      <td>Tue</td>\n",
       "      <td>2016-01-05</td>\n",
       "    </tr>\n",
       "  </tbody>\n",
       "</table>\n",
       "</div>"
      ],
      "text/plain": [
       "   PERSON_ID                TIME  SYSTOLIC_BLOOD_PRESSURE  Hour  Minutes  \\\n",
       "0        123 2016-01-05 07:16:00                       33     7       16   \n",
       "1        123 2016-01-05 07:17:00                       75     7       17   \n",
       "2        123 2016-01-05 07:18:00                       58     7       18   \n",
       "3        123 2016-01-05 07:19:00                       93     7       19   \n",
       "4        123 2016-01-05 07:20:00                       35     7       20   \n",
       "\n",
       "  Day of week        Date  \n",
       "0         Tue  2016-01-05  \n",
       "1         Tue  2016-01-05  \n",
       "2         Tue  2016-01-05  \n",
       "3         Tue  2016-01-05  \n",
       "4         Tue  2016-01-05  "
      ]
     },
     "execution_count": 136,
     "metadata": {},
     "output_type": "execute_result"
    }
   ],
   "source": [
    "bloodpressure.head()"
   ]
  },
  {
   "cell_type": "code",
   "execution_count": 18,
   "metadata": {},
   "outputs": [
    {
     "data": {
      "text/plain": [
       "PERSON_ID                           int64\n",
       "TIME                       datetime64[ns]\n",
       "SYSTOLIC_BLOOD_PRESSURE             int32\n",
       "Hour                                int64\n",
       "Minutes                             int64\n",
       "Day of week                        object\n",
       "dtype: object"
      ]
     },
     "execution_count": 18,
     "metadata": {},
     "output_type": "execute_result"
    }
   ],
   "source": [
    "bloodpressure.dtypes"
   ]
  },
  {
   "cell_type": "code",
   "execution_count": 19,
   "metadata": {},
   "outputs": [
    {
     "data": {
      "text/plain": [
       "(1576, 6)"
      ]
     },
     "execution_count": 19,
     "metadata": {},
     "output_type": "execute_result"
    }
   ],
   "source": [
    "bloodpressure.shape"
   ]
  },
  {
   "cell_type": "markdown",
   "metadata": {},
   "source": [
    "--"
   ]
  },
  {
   "cell_type": "code",
   "execution_count": 20,
   "metadata": {},
   "outputs": [
    {
     "data": {
      "text/html": [
       "<div>\n",
       "<style scoped>\n",
       "    .dataframe tbody tr th:only-of-type {\n",
       "        vertical-align: middle;\n",
       "    }\n",
       "\n",
       "    .dataframe tbody tr th {\n",
       "        vertical-align: top;\n",
       "    }\n",
       "\n",
       "    .dataframe thead th {\n",
       "        text-align: right;\n",
       "    }\n",
       "</style>\n",
       "<table border=\"1\" class=\"dataframe\">\n",
       "  <thead>\n",
       "    <tr style=\"text-align: right;\">\n",
       "      <th></th>\n",
       "      <th>PERSON_ID</th>\n",
       "      <th>SERVICE_DATE</th>\n",
       "      <th>AGE_MONTHS</th>\n",
       "    </tr>\n",
       "  </thead>\n",
       "  <tbody>\n",
       "    <tr>\n",
       "      <th>0</th>\n",
       "      <td>123</td>\n",
       "      <td>2016-01-05</td>\n",
       "      <td>46</td>\n",
       "    </tr>\n",
       "    <tr>\n",
       "      <th>1</th>\n",
       "      <td>123</td>\n",
       "      <td>2016-02-13</td>\n",
       "      <td>47</td>\n",
       "    </tr>\n",
       "    <tr>\n",
       "      <th>2</th>\n",
       "      <td>456</td>\n",
       "      <td>2015-06-08</td>\n",
       "      <td>40</td>\n",
       "    </tr>\n",
       "    <tr>\n",
       "      <th>3</th>\n",
       "      <td>456</td>\n",
       "      <td>2015-08-15</td>\n",
       "      <td>42</td>\n",
       "    </tr>\n",
       "    <tr>\n",
       "      <th>4</th>\n",
       "      <td>456</td>\n",
       "      <td>2015-05-21</td>\n",
       "      <td>39</td>\n",
       "    </tr>\n",
       "  </tbody>\n",
       "</table>\n",
       "</div>"
      ],
      "text/plain": [
       "   PERSON_ID SERVICE_DATE  AGE_MONTHS\n",
       "0        123   2016-01-05          46\n",
       "1        123   2016-02-13          47\n",
       "2        456   2015-06-08          40\n",
       "3        456   2015-08-15          42\n",
       "4        456   2015-05-21          39"
      ]
     },
     "execution_count": 20,
     "metadata": {},
     "output_type": "execute_result"
    }
   ],
   "source": [
    "# Read in the demographics csv files as a dataframe called demographics\n",
    "\n",
    "demographics = pd.read_csv('Demographics.csv', parse_dates=[1])\n",
    "\n",
    "demographics.head()"
   ]
  },
  {
   "cell_type": "code",
   "execution_count": 21,
   "metadata": {},
   "outputs": [
    {
     "data": {
      "text/plain": [
       "(17, 3)"
      ]
     },
     "execution_count": 21,
     "metadata": {},
     "output_type": "execute_result"
    }
   ],
   "source": [
    "demographics.shape"
   ]
  },
  {
   "cell_type": "code",
   "execution_count": 22,
   "metadata": {},
   "outputs": [
    {
     "data": {
      "text/plain": [
       "PERSON_ID                int64\n",
       "SERVICE_DATE    datetime64[ns]\n",
       "AGE_MONTHS               int64\n",
       "dtype: object"
      ]
     },
     "execution_count": 22,
     "metadata": {},
     "output_type": "execute_result"
    }
   ],
   "source": [
    "demographics.dtypes"
   ]
  },
  {
   "cell_type": "code",
   "execution_count": 23,
   "metadata": {},
   "outputs": [
    {
     "data": {
      "text/plain": [
       "PERSON_ID       0\n",
       "SERVICE_DATE    0\n",
       "AGE_MONTHS      0\n",
       "dtype: int64"
      ]
     },
     "execution_count": 23,
     "metadata": {},
     "output_type": "execute_result"
    }
   ],
   "source": [
    "# Checking for null values\n",
    "\n",
    "demographics.isnull().sum()"
   ]
  },
  {
   "cell_type": "code",
   "execution_count": 24,
   "metadata": {},
   "outputs": [
    {
     "data": {
      "text/html": [
       "<div>\n",
       "<style scoped>\n",
       "    .dataframe tbody tr th:only-of-type {\n",
       "        vertical-align: middle;\n",
       "    }\n",
       "\n",
       "    .dataframe tbody tr th {\n",
       "        vertical-align: top;\n",
       "    }\n",
       "\n",
       "    .dataframe thead th {\n",
       "        text-align: right;\n",
       "    }\n",
       "</style>\n",
       "<table border=\"1\" class=\"dataframe\">\n",
       "  <thead>\n",
       "    <tr style=\"text-align: right;\">\n",
       "      <th></th>\n",
       "      <th>PERSON_ID</th>\n",
       "      <th>TIME</th>\n",
       "      <th>SYSTOLIC_BLOOD_PRESSURE</th>\n",
       "      <th>Hour</th>\n",
       "      <th>Minutes</th>\n",
       "      <th>Day of week</th>\n",
       "      <th>SERVICE_DATE</th>\n",
       "      <th>AGE_MONTHS</th>\n",
       "    </tr>\n",
       "  </thead>\n",
       "  <tbody>\n",
       "    <tr>\n",
       "      <th>0</th>\n",
       "      <td>123</td>\n",
       "      <td>2016-01-05 07:16:00</td>\n",
       "      <td>33</td>\n",
       "      <td>7</td>\n",
       "      <td>16</td>\n",
       "      <td>Tue</td>\n",
       "      <td>2016-01-05</td>\n",
       "      <td>46</td>\n",
       "    </tr>\n",
       "    <tr>\n",
       "      <th>1</th>\n",
       "      <td>123</td>\n",
       "      <td>2016-01-05 07:16:00</td>\n",
       "      <td>33</td>\n",
       "      <td>7</td>\n",
       "      <td>16</td>\n",
       "      <td>Tue</td>\n",
       "      <td>2016-02-13</td>\n",
       "      <td>47</td>\n",
       "    </tr>\n",
       "    <tr>\n",
       "      <th>2</th>\n",
       "      <td>123</td>\n",
       "      <td>2016-01-05 07:17:00</td>\n",
       "      <td>75</td>\n",
       "      <td>7</td>\n",
       "      <td>17</td>\n",
       "      <td>Tue</td>\n",
       "      <td>2016-01-05</td>\n",
       "      <td>46</td>\n",
       "    </tr>\n",
       "    <tr>\n",
       "      <th>3</th>\n",
       "      <td>123</td>\n",
       "      <td>2016-01-05 07:17:00</td>\n",
       "      <td>75</td>\n",
       "      <td>7</td>\n",
       "      <td>17</td>\n",
       "      <td>Tue</td>\n",
       "      <td>2016-02-13</td>\n",
       "      <td>47</td>\n",
       "    </tr>\n",
       "    <tr>\n",
       "      <th>4</th>\n",
       "      <td>123</td>\n",
       "      <td>2016-01-05 07:18:00</td>\n",
       "      <td>58</td>\n",
       "      <td>7</td>\n",
       "      <td>18</td>\n",
       "      <td>Tue</td>\n",
       "      <td>2016-01-05</td>\n",
       "      <td>46</td>\n",
       "    </tr>\n",
       "  </tbody>\n",
       "</table>\n",
       "</div>"
      ],
      "text/plain": [
       "   PERSON_ID                TIME  SYSTOLIC_BLOOD_PRESSURE  Hour  Minutes  \\\n",
       "0        123 2016-01-05 07:16:00                       33     7       16   \n",
       "1        123 2016-01-05 07:16:00                       33     7       16   \n",
       "2        123 2016-01-05 07:17:00                       75     7       17   \n",
       "3        123 2016-01-05 07:17:00                       75     7       17   \n",
       "4        123 2016-01-05 07:18:00                       58     7       18   \n",
       "\n",
       "  Day of week SERVICE_DATE  AGE_MONTHS  \n",
       "0         Tue   2016-01-05          46  \n",
       "1         Tue   2016-02-13          47  \n",
       "2         Tue   2016-01-05          46  \n",
       "3         Tue   2016-02-13          47  \n",
       "4         Tue   2016-01-05          46  "
      ]
     },
     "execution_count": 24,
     "metadata": {},
     "output_type": "execute_result"
    }
   ],
   "source": [
    "# Join both dataframes using a left join\n",
    "\n",
    "bloodpressure_demographics = pd.merge(bloodpressure, demographics, how='left')\n",
    "\n",
    "bloodpressure_demographics.head()"
   ]
  },
  {
   "cell_type": "code",
   "execution_count": 25,
   "metadata": {},
   "outputs": [
    {
     "data": {
      "text/plain": [
       "(4316, 8)"
      ]
     },
     "execution_count": 25,
     "metadata": {},
     "output_type": "execute_result"
    }
   ],
   "source": [
    "bloodpressure_demographics.shape"
   ]
  },
  {
   "cell_type": "code",
   "execution_count": 26,
   "metadata": {},
   "outputs": [
    {
     "data": {
      "text/plain": [
       "PERSON_ID                  0\n",
       "TIME                       0\n",
       "SYSTOLIC_BLOOD_PRESSURE    0\n",
       "Hour                       0\n",
       "Minutes                    0\n",
       "Day of week                0\n",
       "SERVICE_DATE               0\n",
       "AGE_MONTHS                 0\n",
       "dtype: int64"
      ]
     },
     "execution_count": 26,
     "metadata": {},
     "output_type": "execute_result"
    }
   ],
   "source": [
    "bloodpressure_demographics.isnull().sum()"
   ]
  },
  {
   "cell_type": "markdown",
   "metadata": {},
   "source": [
    "Question: Identify cases during which blood pressure dropped below the norm for the age (see below) for 14 continuous minutes or longer. Assume, that the PERSON_ID is the identifier for the patient, and SERVICE_DATE is the date of the surgery that they had. Surgeries don’t span over 1 day. The Age is given for that patient, for the surgery date.  The Blood pressure is only taken during the surgery duration. "
   ]
  },
  {
   "cell_type": "code",
   "execution_count": 130,
   "metadata": {},
   "outputs": [
    {
     "data": {
      "text/html": [
       "<div>\n",
       "<style scoped>\n",
       "    .dataframe tbody tr th:only-of-type {\n",
       "        vertical-align: middle;\n",
       "    }\n",
       "\n",
       "    .dataframe tbody tr th {\n",
       "        vertical-align: top;\n",
       "    }\n",
       "\n",
       "    .dataframe thead th {\n",
       "        text-align: right;\n",
       "    }\n",
       "</style>\n",
       "<table border=\"1\" class=\"dataframe\">\n",
       "  <thead>\n",
       "    <tr style=\"text-align: right;\">\n",
       "      <th></th>\n",
       "      <th>PERSON_ID</th>\n",
       "      <th>SERVICE_DATE</th>\n",
       "      <th>Minutes</th>\n",
       "    </tr>\n",
       "  </thead>\n",
       "  <tbody>\n",
       "    <tr>\n",
       "      <th>0</th>\n",
       "      <td>111</td>\n",
       "      <td>2017-10-16</td>\n",
       "      <td>23</td>\n",
       "    </tr>\n",
       "    <tr>\n",
       "      <th>1</th>\n",
       "      <td>123</td>\n",
       "      <td>2016-01-05</td>\n",
       "      <td>51</td>\n",
       "    </tr>\n",
       "    <tr>\n",
       "      <th>2</th>\n",
       "      <td>123</td>\n",
       "      <td>2016-02-13</td>\n",
       "      <td>51</td>\n",
       "    </tr>\n",
       "    <tr>\n",
       "      <th>3</th>\n",
       "      <td>234</td>\n",
       "      <td>2015-09-08</td>\n",
       "      <td>48</td>\n",
       "    </tr>\n",
       "    <tr>\n",
       "      <th>4</th>\n",
       "      <td>234</td>\n",
       "      <td>2016-01-06</td>\n",
       "      <td>48</td>\n",
       "    </tr>\n",
       "    <tr>\n",
       "      <th>5</th>\n",
       "      <td>234</td>\n",
       "      <td>2016-02-17</td>\n",
       "      <td>48</td>\n",
       "    </tr>\n",
       "    <tr>\n",
       "      <th>6</th>\n",
       "      <td>345</td>\n",
       "      <td>2015-05-23</td>\n",
       "      <td>41</td>\n",
       "    </tr>\n",
       "    <tr>\n",
       "      <th>7</th>\n",
       "      <td>345</td>\n",
       "      <td>2015-08-11</td>\n",
       "      <td>41</td>\n",
       "    </tr>\n",
       "    <tr>\n",
       "      <th>8</th>\n",
       "      <td>456</td>\n",
       "      <td>2015-05-21</td>\n",
       "      <td>109</td>\n",
       "    </tr>\n",
       "    <tr>\n",
       "      <th>9</th>\n",
       "      <td>456</td>\n",
       "      <td>2015-06-08</td>\n",
       "      <td>109</td>\n",
       "    </tr>\n",
       "    <tr>\n",
       "      <th>10</th>\n",
       "      <td>456</td>\n",
       "      <td>2015-08-15</td>\n",
       "      <td>109</td>\n",
       "    </tr>\n",
       "    <tr>\n",
       "      <th>11</th>\n",
       "      <td>456</td>\n",
       "      <td>2017-10-16</td>\n",
       "      <td>109</td>\n",
       "    </tr>\n",
       "    <tr>\n",
       "      <th>12</th>\n",
       "      <td>567</td>\n",
       "      <td>2019-05-10</td>\n",
       "      <td>24</td>\n",
       "    </tr>\n",
       "    <tr>\n",
       "      <th>13</th>\n",
       "      <td>567</td>\n",
       "      <td>2019-06-12</td>\n",
       "      <td>24</td>\n",
       "    </tr>\n",
       "    <tr>\n",
       "      <th>14</th>\n",
       "      <td>789</td>\n",
       "      <td>2017-07-07</td>\n",
       "      <td>22</td>\n",
       "    </tr>\n",
       "    <tr>\n",
       "      <th>15</th>\n",
       "      <td>987</td>\n",
       "      <td>2016-02-17</td>\n",
       "      <td>31</td>\n",
       "    </tr>\n",
       "    <tr>\n",
       "      <th>16</th>\n",
       "      <td>987</td>\n",
       "      <td>2016-10-17</td>\n",
       "      <td>31</td>\n",
       "    </tr>\n",
       "  </tbody>\n",
       "</table>\n",
       "</div>"
      ],
      "text/plain": [
       "    PERSON_ID SERVICE_DATE  Minutes\n",
       "0         111   2017-10-16       23\n",
       "1         123   2016-01-05       51\n",
       "2         123   2016-02-13       51\n",
       "3         234   2015-09-08       48\n",
       "4         234   2016-01-06       48\n",
       "5         234   2016-02-17       48\n",
       "6         345   2015-05-23       41\n",
       "7         345   2015-08-11       41\n",
       "8         456   2015-05-21      109\n",
       "9         456   2015-06-08      109\n",
       "10        456   2015-08-15      109\n",
       "11        456   2017-10-16      109\n",
       "12        567   2019-05-10       24\n",
       "13        567   2019-06-12       24\n",
       "14        789   2017-07-07       22\n",
       "15        987   2016-02-17       31\n",
       "16        987   2016-10-17       31"
      ]
     },
     "execution_count": 130,
     "metadata": {},
     "output_type": "execute_result"
    }
   ],
   "source": [
    "bloodpressure_demographics[(bloodpressure_demographics.Minutes>=14) & \n",
    "                           (bloodpressure_demographics.SYSTOLIC_BLOOD_PRESSURE <=46)]\\\n",
    ".groupby(['PERSON_ID', 'SERVICE_DATE'], as_index = False).agg({'Minutes':'count'})"
   ]
  },
  {
   "cell_type": "code",
   "execution_count": 121,
   "metadata": {},
   "outputs": [
    {
     "data": {
      "text/html": [
       "<div>\n",
       "<style scoped>\n",
       "    .dataframe tbody tr th:only-of-type {\n",
       "        vertical-align: middle;\n",
       "    }\n",
       "\n",
       "    .dataframe tbody tr th {\n",
       "        vertical-align: top;\n",
       "    }\n",
       "\n",
       "    .dataframe thead th {\n",
       "        text-align: right;\n",
       "    }\n",
       "</style>\n",
       "<table border=\"1\" class=\"dataframe\">\n",
       "  <thead>\n",
       "    <tr style=\"text-align: right;\">\n",
       "      <th></th>\n",
       "      <th>PERSON_ID</th>\n",
       "      <th>SERVICE_DATE</th>\n",
       "      <th>Minutes</th>\n",
       "    </tr>\n",
       "  </thead>\n",
       "  <tbody>\n",
       "    <tr>\n",
       "      <th>0</th>\n",
       "      <td>456</td>\n",
       "      <td>2015-06-08</td>\n",
       "      <td>109</td>\n",
       "    </tr>\n",
       "    <tr>\n",
       "      <th>1</th>\n",
       "      <td>567</td>\n",
       "      <td>2019-05-10</td>\n",
       "      <td>24</td>\n",
       "    </tr>\n",
       "  </tbody>\n",
       "</table>\n",
       "</div>"
      ],
      "text/plain": [
       "   PERSON_ID SERVICE_DATE  Minutes\n",
       "0        456   2015-06-08      109\n",
       "1        567   2019-05-10       24"
      ]
     },
     "execution_count": 121,
     "metadata": {},
     "output_type": "execute_result"
    }
   ],
   "source": [
    "# Age_Month = \"40\"\n",
    "\n",
    "bloodpressure_demographics[(bloodpressure_demographics.Minutes>=14) & \n",
    "                           (bloodpressure_demographics.SYSTOLIC_BLOOD_PRESSURE <=46) &\n",
    "                           (bloodpressure_demographics.AGE_MONTHS == 40)]\\\n",
    ".groupby(['PERSON_ID', 'SERVICE_DATE'], as_index = False).agg({'Minutes':'count'})"
   ]
  },
  {
   "cell_type": "markdown",
   "metadata": {},
   "source": [
    "---"
   ]
  },
  {
   "cell_type": "code",
   "execution_count": null,
   "metadata": {},
   "outputs": [],
   "source": []
  },
  {
   "cell_type": "code",
   "execution_count": 27,
   "metadata": {},
   "outputs": [],
   "source": [
    "# Exporting data to a database in SQL\n",
    "\n",
    "from sqlalchemy import create_engine\n",
    "\n",
    "import urllib\n",
    "\n",
    "\n",
    "quoted = urllib.parse.quote_plus(\"Driver={SQL Server Native Client 11.0};\"\n",
    "                     \"Server=DESKTOP-H926MSV\\SQLEXPRESS;\"\n",
    "                     \"Database=BCH_Project;\"\n",
    "                     \"Trusted_Connection=yes;\")\n",
    "\n",
    "engine = create_engine('mssql+pyodbc:///?odbc_connect={}'.format(quoted))\n",
    "\n",
    "bloodpressure_demographics.to_sql('BP_DEMO', con = engine, if_exists = 'replace')"
   ]
  },
  {
   "cell_type": "markdown",
   "metadata": {},
   "source": [
    "--"
   ]
  },
  {
   "cell_type": "code",
   "execution_count": 28,
   "metadata": {},
   "outputs": [
    {
     "data": {
      "text/html": [
       "<div>\n",
       "<style scoped>\n",
       "    .dataframe tbody tr th:only-of-type {\n",
       "        vertical-align: middle;\n",
       "    }\n",
       "\n",
       "    .dataframe tbody tr th {\n",
       "        vertical-align: top;\n",
       "    }\n",
       "\n",
       "    .dataframe thead th {\n",
       "        text-align: right;\n",
       "    }\n",
       "</style>\n",
       "<table border=\"1\" class=\"dataframe\">\n",
       "  <thead>\n",
       "    <tr style=\"text-align: right;\">\n",
       "      <th></th>\n",
       "      <th>index</th>\n",
       "      <th>PERSON_ID</th>\n",
       "      <th>TIME</th>\n",
       "      <th>SYSTOLIC_BLOOD_PRESSURE</th>\n",
       "      <th>Hour</th>\n",
       "      <th>Minutes</th>\n",
       "      <th>Day of week</th>\n",
       "      <th>SERVICE_DATE</th>\n",
       "      <th>AGE_MONTHS</th>\n",
       "    </tr>\n",
       "  </thead>\n",
       "  <tbody>\n",
       "    <tr>\n",
       "      <th>0</th>\n",
       "      <td>0</td>\n",
       "      <td>123</td>\n",
       "      <td>2016-01-05 07:16:00</td>\n",
       "      <td>33</td>\n",
       "      <td>7</td>\n",
       "      <td>16</td>\n",
       "      <td>Tue</td>\n",
       "      <td>2016-01-05</td>\n",
       "      <td>46</td>\n",
       "    </tr>\n",
       "    <tr>\n",
       "      <th>1</th>\n",
       "      <td>1</td>\n",
       "      <td>123</td>\n",
       "      <td>2016-01-05 07:16:00</td>\n",
       "      <td>33</td>\n",
       "      <td>7</td>\n",
       "      <td>16</td>\n",
       "      <td>Tue</td>\n",
       "      <td>2016-02-13</td>\n",
       "      <td>47</td>\n",
       "    </tr>\n",
       "    <tr>\n",
       "      <th>2</th>\n",
       "      <td>2</td>\n",
       "      <td>123</td>\n",
       "      <td>2016-01-05 07:17:00</td>\n",
       "      <td>75</td>\n",
       "      <td>7</td>\n",
       "      <td>17</td>\n",
       "      <td>Tue</td>\n",
       "      <td>2016-01-05</td>\n",
       "      <td>46</td>\n",
       "    </tr>\n",
       "    <tr>\n",
       "      <th>3</th>\n",
       "      <td>3</td>\n",
       "      <td>123</td>\n",
       "      <td>2016-01-05 07:17:00</td>\n",
       "      <td>75</td>\n",
       "      <td>7</td>\n",
       "      <td>17</td>\n",
       "      <td>Tue</td>\n",
       "      <td>2016-02-13</td>\n",
       "      <td>47</td>\n",
       "    </tr>\n",
       "    <tr>\n",
       "      <th>4</th>\n",
       "      <td>4</td>\n",
       "      <td>123</td>\n",
       "      <td>2016-01-05 07:18:00</td>\n",
       "      <td>58</td>\n",
       "      <td>7</td>\n",
       "      <td>18</td>\n",
       "      <td>Tue</td>\n",
       "      <td>2016-01-05</td>\n",
       "      <td>46</td>\n",
       "    </tr>\n",
       "  </tbody>\n",
       "</table>\n",
       "</div>"
      ],
      "text/plain": [
       "   index  PERSON_ID                TIME  SYSTOLIC_BLOOD_PRESSURE  Hour  \\\n",
       "0      0        123 2016-01-05 07:16:00                       33     7   \n",
       "1      1        123 2016-01-05 07:16:00                       33     7   \n",
       "2      2        123 2016-01-05 07:17:00                       75     7   \n",
       "3      3        123 2016-01-05 07:17:00                       75     7   \n",
       "4      4        123 2016-01-05 07:18:00                       58     7   \n",
       "\n",
       "   Minutes Day of week SERVICE_DATE  AGE_MONTHS  \n",
       "0       16         Tue   2016-01-05          46  \n",
       "1       16         Tue   2016-02-13          47  \n",
       "2       17         Tue   2016-01-05          46  \n",
       "3       17         Tue   2016-02-13          47  \n",
       "4       18         Tue   2016-01-05          46  "
      ]
     },
     "execution_count": 28,
     "metadata": {},
     "output_type": "execute_result"
    }
   ],
   "source": [
    "#################################################################################################################\n",
    "##############################   Getting the file from SQL Server      ##########################################\n",
    "#################################################################################################################\n",
    "import pyodbc as podbc\n",
    "\n",
    "conn2 = podbc.connect(\"Driver={SQL Server Native Client 11.0};\"\n",
    "                     \"Server=DESKTOP-H926MSV\\SQLEXPRESS;\"\n",
    "                     \"Database=BCH_Project;\"\n",
    "                     \"Trusted_Connection=yes;\")\n",
    "\n",
    "# rynning the SQL quey i need\n",
    "SQL_Query = pd.read_sql_query('''SELECT * FROM BP_DEMO''', conn2)\n",
    "\n",
    "#conn.close()\n",
    "\n",
    "\n",
    "\n",
    "# Viz\n",
    "SQL_Query.head()\n"
   ]
  },
  {
   "cell_type": "markdown",
   "metadata": {},
   "source": [
    "1. Identify cases during which blood pressure dropped below the norm for the age (see below) for 14 continuous minutes or longer. Assume, that the PERSON_ID is the identifier for the patient, and SERVICE_DATE is the date of the surgery that they had. Surgeries don’t span over 1 day. The Age is given for that patient, for the surgery date.  The Blood pressure is only taken during the surgery duration. \n",
    "\n",
    "If the child reached 44 months, systolic blood pressure is considered low at 55 mmHg and below. Before 44 months of age, 46 mmHg and below is considered low. Since the patient is 40 months old at the time of the surgery, their threshold is 46 mmHg, hence, only row 1 would be considered low for 1 minute."
   ]
  },
  {
   "cell_type": "code",
   "execution_count": 129,
   "metadata": {},
   "outputs": [
    {
     "data": {
      "text/html": [
       "<div>\n",
       "<style scoped>\n",
       "    .dataframe tbody tr th:only-of-type {\n",
       "        vertical-align: middle;\n",
       "    }\n",
       "\n",
       "    .dataframe tbody tr th {\n",
       "        vertical-align: top;\n",
       "    }\n",
       "\n",
       "    .dataframe thead th {\n",
       "        text-align: right;\n",
       "    }\n",
       "</style>\n",
       "<table border=\"1\" class=\"dataframe\">\n",
       "  <thead>\n",
       "    <tr style=\"text-align: right;\">\n",
       "      <th></th>\n",
       "      <th>PERSON_ID</th>\n",
       "      <th>SERVICE_DATE</th>\n",
       "      <th>duration_in_Min</th>\n",
       "    </tr>\n",
       "  </thead>\n",
       "  <tbody>\n",
       "    <tr>\n",
       "      <th>0</th>\n",
       "      <td>111</td>\n",
       "      <td>2017-10-16</td>\n",
       "      <td>23</td>\n",
       "    </tr>\n",
       "    <tr>\n",
       "      <th>1</th>\n",
       "      <td>123</td>\n",
       "      <td>2016-01-05</td>\n",
       "      <td>51</td>\n",
       "    </tr>\n",
       "    <tr>\n",
       "      <th>2</th>\n",
       "      <td>123</td>\n",
       "      <td>2016-02-13</td>\n",
       "      <td>51</td>\n",
       "    </tr>\n",
       "    <tr>\n",
       "      <th>3</th>\n",
       "      <td>234</td>\n",
       "      <td>2015-09-08</td>\n",
       "      <td>48</td>\n",
       "    </tr>\n",
       "    <tr>\n",
       "      <th>4</th>\n",
       "      <td>234</td>\n",
       "      <td>2016-01-06</td>\n",
       "      <td>48</td>\n",
       "    </tr>\n",
       "    <tr>\n",
       "      <th>5</th>\n",
       "      <td>234</td>\n",
       "      <td>2016-02-17</td>\n",
       "      <td>48</td>\n",
       "    </tr>\n",
       "    <tr>\n",
       "      <th>6</th>\n",
       "      <td>345</td>\n",
       "      <td>2015-05-23</td>\n",
       "      <td>41</td>\n",
       "    </tr>\n",
       "    <tr>\n",
       "      <th>7</th>\n",
       "      <td>345</td>\n",
       "      <td>2015-08-11</td>\n",
       "      <td>41</td>\n",
       "    </tr>\n",
       "    <tr>\n",
       "      <th>8</th>\n",
       "      <td>456</td>\n",
       "      <td>2015-05-21</td>\n",
       "      <td>109</td>\n",
       "    </tr>\n",
       "    <tr>\n",
       "      <th>9</th>\n",
       "      <td>456</td>\n",
       "      <td>2015-06-08</td>\n",
       "      <td>109</td>\n",
       "    </tr>\n",
       "    <tr>\n",
       "      <th>10</th>\n",
       "      <td>456</td>\n",
       "      <td>2015-08-15</td>\n",
       "      <td>109</td>\n",
       "    </tr>\n",
       "    <tr>\n",
       "      <th>11</th>\n",
       "      <td>456</td>\n",
       "      <td>2017-10-16</td>\n",
       "      <td>109</td>\n",
       "    </tr>\n",
       "    <tr>\n",
       "      <th>12</th>\n",
       "      <td>567</td>\n",
       "      <td>2019-05-10</td>\n",
       "      <td>24</td>\n",
       "    </tr>\n",
       "    <tr>\n",
       "      <th>13</th>\n",
       "      <td>567</td>\n",
       "      <td>2019-06-12</td>\n",
       "      <td>24</td>\n",
       "    </tr>\n",
       "    <tr>\n",
       "      <th>14</th>\n",
       "      <td>789</td>\n",
       "      <td>2017-07-07</td>\n",
       "      <td>22</td>\n",
       "    </tr>\n",
       "    <tr>\n",
       "      <th>15</th>\n",
       "      <td>987</td>\n",
       "      <td>2016-02-17</td>\n",
       "      <td>31</td>\n",
       "    </tr>\n",
       "    <tr>\n",
       "      <th>16</th>\n",
       "      <td>987</td>\n",
       "      <td>2016-10-17</td>\n",
       "      <td>31</td>\n",
       "    </tr>\n",
       "  </tbody>\n",
       "</table>\n",
       "</div>"
      ],
      "text/plain": [
       "    PERSON_ID SERVICE_DATE  duration_in_Min\n",
       "0         111   2017-10-16               23\n",
       "1         123   2016-01-05               51\n",
       "2         123   2016-02-13               51\n",
       "3         234   2015-09-08               48\n",
       "4         234   2016-01-06               48\n",
       "5         234   2016-02-17               48\n",
       "6         345   2015-05-23               41\n",
       "7         345   2015-08-11               41\n",
       "8         456   2015-05-21              109\n",
       "9         456   2015-06-08              109\n",
       "10        456   2015-08-15              109\n",
       "11        456   2017-10-16              109\n",
       "12        567   2019-05-10               24\n",
       "13        567   2019-06-12               24\n",
       "14        789   2017-07-07               22\n",
       "15        987   2016-02-17               31\n",
       "16        987   2016-10-17               31"
      ]
     },
     "execution_count": 129,
     "metadata": {},
     "output_type": "execute_result"
    }
   ],
   "source": [
    "# Considering patients who are 40 months old and with SYSTOLIC_BLOOD_PRESSURE of less than or equal to 46\n",
    "\n",
    "pd.read_sql_query('''SELECT PERSON_ID, SERVICE_DATE, COUNT(Minutes) AS duration_in_Min FROM BP_DEMO\n",
    "WHERE Minutes >=14 AND SYSTOLIC_BLOOD_PRESSURE <=46\n",
    "GROUP BY PERSON_ID, SERVICE_DATE\n",
    "ORDER BY PERSON_ID ASC''', conn2)"
   ]
  },
  {
   "cell_type": "code",
   "execution_count": null,
   "metadata": {},
   "outputs": [],
   "source": []
  }
 ],
 "metadata": {
  "kernelspec": {
   "display_name": "Python 3",
   "language": "python",
   "name": "python3"
  },
  "language_info": {
   "codemirror_mode": {
    "name": "ipython",
    "version": 3
   },
   "file_extension": ".py",
   "mimetype": "text/x-python",
   "name": "python",
   "nbconvert_exporter": "python",
   "pygments_lexer": "ipython3",
   "version": "3.7.3"
  }
 },
 "nbformat": 4,
 "nbformat_minor": 2
}
